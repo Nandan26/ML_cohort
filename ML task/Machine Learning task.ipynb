{
 "cells": [
  {
   "cell_type": "code",
   "execution_count": 1,
   "id": "deadly-teach",
   "metadata": {},
   "outputs": [],
   "source": [
    "import pandas as pd\n",
    "import numpy as np"
   ]
  },
  {
   "cell_type": "markdown",
   "id": "junior-professional",
   "metadata": {},
   "source": [
    "# Read the labels file"
   ]
  },
  {
   "cell_type": "code",
   "execution_count": 2,
   "id": "furnished-experiment",
   "metadata": {},
   "outputs": [],
   "source": [
    "df=pd.read_csv('train_labels.csv')"
   ]
  },
  {
   "cell_type": "code",
   "execution_count": 3,
   "id": "front-naples",
   "metadata": {},
   "outputs": [
    {
     "data": {
      "text/html": [
       "<div>\n",
       "<style scoped>\n",
       "    .dataframe tbody tr th:only-of-type {\n",
       "        vertical-align: middle;\n",
       "    }\n",
       "\n",
       "    .dataframe tbody tr th {\n",
       "        vertical-align: top;\n",
       "    }\n",
       "\n",
       "    .dataframe thead th {\n",
       "        text-align: right;\n",
       "    }\n",
       "</style>\n",
       "<table border=\"1\" class=\"dataframe\">\n",
       "  <thead>\n",
       "    <tr style=\"text-align: right;\">\n",
       "      <th></th>\n",
       "      <th>id</th>\n",
       "      <th>label</th>\n",
       "    </tr>\n",
       "  </thead>\n",
       "  <tbody>\n",
       "    <tr>\n",
       "      <th>0</th>\n",
       "      <td>10</td>\n",
       "      <td>cat</td>\n",
       "    </tr>\n",
       "    <tr>\n",
       "      <th>1</th>\n",
       "      <td>18</td>\n",
       "      <td>cat</td>\n",
       "    </tr>\n",
       "    <tr>\n",
       "      <th>2</th>\n",
       "      <td>22</td>\n",
       "      <td>cat</td>\n",
       "    </tr>\n",
       "    <tr>\n",
       "      <th>3</th>\n",
       "      <td>27</td>\n",
       "      <td>cat</td>\n",
       "    </tr>\n",
       "    <tr>\n",
       "      <th>4</th>\n",
       "      <td>34</td>\n",
       "      <td>cat</td>\n",
       "    </tr>\n",
       "  </tbody>\n",
       "</table>\n",
       "</div>"
      ],
      "text/plain": [
       "   id label\n",
       "0  10   cat\n",
       "1  18   cat\n",
       "2  22   cat\n",
       "3  27   cat\n",
       "4  34   cat"
      ]
     },
     "execution_count": 3,
     "metadata": {},
     "output_type": "execute_result"
    }
   ],
   "source": [
    "df.head()"
   ]
  },
  {
   "cell_type": "code",
   "execution_count": 4,
   "id": "exterior-karen",
   "metadata": {},
   "outputs": [
    {
     "data": {
      "text/plain": [
       "8000"
      ]
     },
     "execution_count": 4,
     "metadata": {},
     "output_type": "execute_result"
    }
   ],
   "source": [
    "len(df)"
   ]
  },
  {
   "cell_type": "markdown",
   "id": "overhead-welsh",
   "metadata": {},
   "source": [
    "# Check if data is balanced or not"
   ]
  },
  {
   "cell_type": "code",
   "execution_count": 5,
   "id": "suffering-switzerland",
   "metadata": {},
   "outputs": [
    {
     "data": {
      "text/plain": [
       "<AxesSubplot:xlabel='label', ylabel='count'>"
      ]
     },
     "execution_count": 5,
     "metadata": {},
     "output_type": "execute_result"
    },
    {
     "data": {
      "image/png": "[encoded data removed]",
      "text/plain": [
       "<Figure size 432x288 with 1 Axes>"
      ]
     },
     "metadata": {
      "needs_background": "light"
     },
     "output_type": "display_data"
    }
   ],
   "source": [
    "import seaborn as sns\n",
    "sns.countplot(x=\"label\",data=df)"
   ]
  },
  {
   "cell_type": "markdown",
   "id": "governmental-exchange",
   "metadata": {},
   "source": [
    "# Read the images and covert it into list"
   ]
  },
  {
   "cell_type": "code",
   "execution_count": 6,
   "id": "australian-river",
   "metadata": {},
   "outputs": [],
   "source": [
    "import cv2\n",
    "img = cv2.imread('10.png')\n",
    "dimensions = img.shape"
   ]
  },
  {
   "cell_type": "code",
   "execution_count": 7,
   "id": "alleged-sector",
   "metadata": {},
   "outputs": [
    {
     "data": {
      "text/plain": [
       "(32, 32, 3)"
      ]
     },
     "execution_count": 7,
     "metadata": {},
     "output_type": "execute_result"
    }
   ],
   "source": [
    "dimensions"
   ]
  },
  {
   "cell_type": "code",
   "execution_count": 8,
   "id": "western-milton",
   "metadata": {},
   "outputs": [],
   "source": [
    "import os"
   ]
  },
  {
   "cell_type": "code",
   "execution_count": 9,
   "id": "accredited-symbol",
   "metadata": {},
   "outputs": [],
   "source": [
    "img_dir=\"D:\\\\ML cohert\\\\ML task\\\\train_data\\\\train_data\"\n",
    "ids = df[\"id\"].tolist()\n",
    "labels = df[\"label\"].tolist()"
   ]
  },
  {
   "cell_type": "code",
   "execution_count": 10,
   "id": "stupid-asset",
   "metadata": {},
   "outputs": [],
   "source": [
    "imgs = []\n",
    "\n",
    "for img in ids:\n",
    "    imgs.append(cv2.imread(os.path.join(img_dir,f\"{img}.png\")))\n"
   ]
  },
  {
   "cell_type": "code",
   "execution_count": 11,
   "id": "abroad-reminder",
   "metadata": {},
   "outputs": [
    {
     "data": {
      "text/plain": [
       "8000"
      ]
     },
     "execution_count": 11,
     "metadata": {},
     "output_type": "execute_result"
    }
   ],
   "source": [
    "len(imgs)"
   ]
  },
  {
   "cell_type": "code",
   "execution_count": 15,
   "id": "liberal-thunder",
   "metadata": {},
   "outputs": [
    {
     "data": {
      "text/plain": [
       "array([[[116, 125, 125],\n",
       "        [ 91, 101, 110],\n",
       "        [ 83,  90, 102],\n",
       "        ...,\n",
       "        [214, 207, 202],\n",
       "        [212, 205, 200],\n",
       "        [214, 208, 202]],\n",
       "\n",
       "       [[142, 146, 142],\n",
       "        [139, 144, 146],\n",
       "        [170, 172, 176],\n",
       "        ...,\n",
       "        [205, 201, 195],\n",
       "        [209, 205, 198],\n",
       "        [215, 211, 204]],\n",
       "\n",
       "       [[183, 185, 180],\n",
       "        [146, 146, 143],\n",
       "        [157, 157, 156],\n",
       "        ...,\n",
       "        [113, 111, 122],\n",
       "        [131, 128, 139],\n",
       "        [150, 147, 158]],\n",
       "\n",
       "       ...,\n",
       "\n",
       "       [[ 41,  82, 104],\n",
       "        [ 39,  80, 101],\n",
       "        [ 38,  81, 101],\n",
       "        ...,\n",
       "        [ 67, 103, 126],\n",
       "        [ 69, 103, 126],\n",
       "        [ 68, 101, 125]],\n",
       "\n",
       "       [[ 40,  81, 104],\n",
       "        [ 41,  84, 105],\n",
       "        [ 43,  88, 109],\n",
       "        ...,\n",
       "        [ 78, 113, 138],\n",
       "        [ 80, 113, 137],\n",
       "        [ 81, 112, 137]],\n",
       "\n",
       "       [[ 42,  83, 105],\n",
       "        [ 45,  87, 108],\n",
       "        [ 50,  94, 115],\n",
       "        ...,\n",
       "        [ 82, 117, 143],\n",
       "        [ 84, 116, 143],\n",
       "        [ 86, 116, 144]]], dtype=uint8)"
      ]
     },
     "execution_count": 15,
     "metadata": {},
     "output_type": "execute_result"
    }
   ],
   "source": [
    "imgs[0]"
   ]
  },
  {
   "cell_type": "code",
   "execution_count": 12,
   "id": "analyzed-gardening",
   "metadata": {},
   "outputs": [],
   "source": [
    "clf = [\"cat\",\"dog\"]\n",
    "target = []\n",
    "for label in labels :\n",
    "    if label == \"cat\":\n",
    "        target.append(clf.index(label))\n",
    "    elif label == \"dog\":\n",
    "        target.append(clf.index(label))"
   ]
  },
  {
   "cell_type": "code",
   "execution_count": 18,
   "id": "polish-masters",
   "metadata": {},
   "outputs": [],
   "source": [
    "import random"
   ]
  },
  {
   "cell_type": "code",
   "execution_count": 32,
   "id": "absent-grace",
   "metadata": {},
   "outputs": [],
   "source": [
    "img_width=64\n",
    "img_height = 64"
   ]
  },
  {
   "cell_type": "markdown",
   "id": "numerical-fields",
   "metadata": {},
   "source": [
    "# Below function prepares input data for our model"
   ]
  },
  {
   "cell_type": "code",
   "execution_count": 33,
   "id": "recreational-projection",
   "metadata": {},
   "outputs": [],
   "source": [
    "def prepare_data(images,target):\n",
    "    inp= []\n",
    "\n",
    "    for i in range(len(target)):\n",
    "        images[i]=cv2.resize(images[i], (img_width,img_height), interpolation=cv2.INTER_CUBIC)\n",
    "        inp.append([images[i], target[i]])\n",
    "\n",
    "    random.shuffle(inp) \n",
    "    x = []  \n",
    "    y = []  \n",
    "\n",
    "    for feature, tar in inp:\n",
    "        x.append(feature)\n",
    "        y.append(tar)\n",
    "    \n",
    "    x= np.array(x)\n",
    "    x = x/255\n",
    "    y= np.array(y)\n",
    "    \n",
    "    return x,y"
   ]
  },
  {
   "cell_type": "code",
   "execution_count": 34,
   "id": "theoretical-engineer",
   "metadata": {},
   "outputs": [],
   "source": [
    "x, y = prepare_data(imgs,target)"
   ]
  },
  {
   "cell_type": "code",
   "execution_count": 35,
   "id": "fantastic-imaging",
   "metadata": {},
   "outputs": [
    {
     "data": {
      "text/plain": [
       "array([[[0.43137255, 0.55294118, 0.50980392],\n",
       "        [0.42745098, 0.55686275, 0.51372549],\n",
       "        [0.41568627, 0.56470588, 0.52156863],\n",
       "        ...,\n",
       "        [0.49803922, 0.61176471, 0.59215686],\n",
       "        [0.43529412, 0.54901961, 0.52941176],\n",
       "        [0.39215686, 0.50980392, 0.49019608]],\n",
       "\n",
       "       [[0.41960784, 0.54901961, 0.50588235],\n",
       "        [0.41568627, 0.55686275, 0.50980392],\n",
       "        [0.40784314, 0.56862745, 0.52156863],\n",
       "        ...,\n",
       "        [0.54117647, 0.65490196, 0.63137255],\n",
       "        [0.45490196, 0.57647059, 0.55686275],\n",
       "        [0.40392157, 0.52941176, 0.50980392]],\n",
       "\n",
       "       [[0.40392157, 0.54117647, 0.49411765],\n",
       "        [0.4       , 0.55294118, 0.50588235],\n",
       "        [0.39215686, 0.56862745, 0.51764706],\n",
       "        ...,\n",
       "        [0.60392157, 0.72156863, 0.70196078],\n",
       "        [0.49019608, 0.62352941, 0.6       ],\n",
       "        [0.41960784, 0.56078431, 0.5372549 ]],\n",
       "\n",
       "       ...,\n",
       "\n",
       "       [[0.77647059, 0.77254902, 0.77647059],\n",
       "        [0.64313725, 0.65098039, 0.65098039],\n",
       "        [0.42352941, 0.45098039, 0.44313725],\n",
       "        ...,\n",
       "        [0.38823529, 0.54901961, 0.47058824],\n",
       "        [0.38431373, 0.54509804, 0.4745098 ],\n",
       "        [0.38039216, 0.54117647, 0.4745098 ]],\n",
       "\n",
       "       [[0.74509804, 0.76078431, 0.76078431],\n",
       "        [0.62352941, 0.65882353, 0.65098039],\n",
       "        [0.42745098, 0.48627451, 0.47058824],\n",
       "        ...,\n",
       "        [0.37647059, 0.54509804, 0.46666667],\n",
       "        [0.36862745, 0.53333333, 0.4627451 ],\n",
       "        [0.36078431, 0.52941176, 0.45882353]],\n",
       "\n",
       "       [[0.72156863, 0.75294118, 0.74901961],\n",
       "        [0.61176471, 0.65882353, 0.65098039],\n",
       "        [0.42745098, 0.50588235, 0.49019608],\n",
       "        ...,\n",
       "        [0.37254902, 0.54117647, 0.46666667],\n",
       "        [0.36078431, 0.52941176, 0.45490196],\n",
       "        [0.34901961, 0.52156863, 0.45098039]]])"
      ]
     },
     "execution_count": 35,
     "metadata": {},
     "output_type": "execute_result"
    }
   ],
   "source": [
    "x[0]"
   ]
  },
  {
   "cell_type": "code",
   "execution_count": 36,
   "id": "iraqi-moisture",
   "metadata": {},
   "outputs": [
    {
     "data": {
      "text/plain": [
       "(64, 64, 3)"
      ]
     },
     "execution_count": 36,
     "metadata": {},
     "output_type": "execute_result"
    }
   ],
   "source": [
    "x[0].shape"
   ]
  },
  {
   "cell_type": "markdown",
   "id": "positive-filter",
   "metadata": {},
   "source": [
    "# Build the model with the help of keras api"
   ]
  },
  {
   "cell_type": "code",
   "execution_count": 37,
   "id": "guilty-large",
   "metadata": {},
   "outputs": [],
   "source": [
    "from keras import layers, models, optimizers"
   ]
  },
  {
   "cell_type": "code",
   "execution_count": 42,
   "id": "pointed-owner",
   "metadata": {},
   "outputs": [],
   "source": [
    "model = models.Sequential()\n",
    "\n",
    "model.add(layers.Conv2D(32, (3, 3), input_shape=(img_width, img_height, 3)))\n",
    "model.add(layers.Activation('relu'))\n",
    "model.add(layers.MaxPooling2D(pool_size=(2, 2)))\n",
    "\n",
    "model.add(layers.Conv2D(32, (3, 3)))\n",
    "model.add(layers.Activation('relu'))\n",
    "model.add(layers.MaxPooling2D(pool_size=(2, 2)))\n",
    "\n",
    "model.add(layers.Conv2D(64, (3, 3)))\n",
    "model.add(layers.Activation('relu'))\n",
    "model.add(layers.MaxPooling2D(pool_size=(2, 2)))\n",
    "\n",
    "model.add(layers.Flatten())\n",
    "model.add(layers.Dense(128))\n",
    "model.add(layers.Activation('relu'))\n",
    "model.add(layers.Dropout(0.5))\n",
    "\n",
    "model.add(layers.Dense(64))\n",
    "model.add(layers.Activation('relu'))\n",
    "model.add(layers.Dropout(0.5))\n",
    "\n",
    "model.add(layers.Dense(1))\n",
    "model.add(layers.Activation('sigmoid'))"
   ]
  },
  {
   "cell_type": "code",
   "execution_count": 43,
   "id": "suffering-uniform",
   "metadata": {},
   "outputs": [
    {
     "name": "stdout",
     "output_type": "stream",
     "text": [
      "Model: \"sequential_1\"\n",
      "_________________________________________________________________\n",
      "Layer (type)                 Output Shape              Param #   \n",
      "=================================================================\n",
      "conv2d_3 (Conv2D)            (None, 62, 62, 32)        896       \n",
      "_________________________________________________________________\n",
      "activation_6 (Activation)    (None, 62, 62, 32)        0         \n",
      "_________________________________________________________________\n",
      "max_pooling2d_3 (MaxPooling2 (None, 31, 31, 32)        0         \n",
      "_________________________________________________________________\n",
      "conv2d_4 (Conv2D)            (None, 29, 29, 32)        9248      \n",
      "_________________________________________________________________\n",
      "activation_7 (Activation)    (None, 29, 29, 32)        0         \n",
      "_________________________________________________________________\n",
      "max_pooling2d_4 (MaxPooling2 (None, 14, 14, 32)        0         \n",
      "_________________________________________________________________\n",
      "conv2d_5 (Conv2D)            (None, 12, 12, 64)        18496     \n",
      "_________________________________________________________________\n",
      "activation_8 (Activation)    (None, 12, 12, 64)        0         \n",
      "_________________________________________________________________\n",
      "max_pooling2d_5 (MaxPooling2 (None, 6, 6, 64)          0         \n",
      "_________________________________________________________________\n",
      "flatten_1 (Flatten)          (None, 2304)              0         \n",
      "_________________________________________________________________\n",
      "dense_3 (Dense)              (None, 128)               295040    \n",
      "_________________________________________________________________\n",
      "activation_9 (Activation)    (None, 128)               0         \n",
      "_________________________________________________________________\n",
      "dropout_2 (Dropout)          (None, 128)               0         \n",
      "_________________________________________________________________\n",
      "dense_4 (Dense)              (None, 64)                8256      \n",
      "_________________________________________________________________\n",
      "activation_10 (Activation)   (None, 64)                0         \n",
      "_________________________________________________________________\n",
      "dropout_3 (Dropout)          (None, 64)                0         \n",
      "_________________________________________________________________\n",
      "dense_5 (Dense)              (None, 1)                 65        \n",
      "_________________________________________________________________\n",
      "activation_11 (Activation)   (None, 1)                 0         \n",
      "=================================================================\n",
      "Total params: 332,001\n",
      "Trainable params: 332,001\n",
      "Non-trainable params: 0\n",
      "_________________________________________________________________\n"
     ]
    }
   ],
   "source": [
    "model.summary()"
   ]
  },
  {
   "cell_type": "code",
   "execution_count": 44,
   "id": "alien-glucose",
   "metadata": {},
   "outputs": [],
   "source": [
    "model.compile(loss='binary_crossentropy',optimizer='adam',metrics=['accuracy'])"
   ]
  },
  {
   "cell_type": "code",
   "execution_count": 45,
   "id": "dress-touch",
   "metadata": {},
   "outputs": [
    {
     "name": "stdout",
     "output_type": "stream",
     "text": [
      "Epoch 1/10\n",
      "200/200 [==============================] - 14s 65ms/step - loss: 0.6946 - accuracy: 0.5124 - val_loss: 0.6716 - val_accuracy: 0.5994\n",
      "Epoch 2/10\n",
      "200/200 [==============================] - 13s 66ms/step - loss: 0.6597 - accuracy: 0.6132 - val_loss: 0.6009 - val_accuracy: 0.6650\n",
      "Epoch 3/10\n",
      "200/200 [==============================] - 14s 70ms/step - loss: 0.6235 - accuracy: 0.6479 - val_loss: 0.5792 - val_accuracy: 0.6919\n",
      "Epoch 4/10\n",
      "200/200 [==============================] - 14s 68ms/step - loss: 0.5875 - accuracy: 0.6903 - val_loss: 0.5767 - val_accuracy: 0.6794\n",
      "Epoch 5/10\n",
      "200/200 [==============================] - 14s 68ms/step - loss: 0.5563 - accuracy: 0.7093 - val_loss: 0.5884 - val_accuracy: 0.6875\n",
      "Epoch 6/10\n",
      "200/200 [==============================] - 14s 69ms/step - loss: 0.5283 - accuracy: 0.7373 - val_loss: 0.5177 - val_accuracy: 0.7337\n",
      "Epoch 7/10\n",
      "200/200 [==============================] - 14s 70ms/step - loss: 0.5014 - accuracy: 0.7535 - val_loss: 0.5144 - val_accuracy: 0.7312\n",
      "Epoch 8/10\n",
      "200/200 [==============================] - 14s 71ms/step - loss: 0.4581 - accuracy: 0.7892 - val_loss: 0.5464 - val_accuracy: 0.7169\n",
      "Epoch 9/10\n",
      "200/200 [==============================] - 15s 75ms/step - loss: 0.4361 - accuracy: 0.7985 - val_loss: 0.5280 - val_accuracy: 0.7331\n",
      "Epoch 10/10\n",
      "200/200 [==============================] - 15s 75ms/step - loss: 0.3785 - accuracy: 0.8315 - val_loss: 0.5440 - val_accuracy: 0.7269\n"
     ]
    }
   ],
   "source": [
    "history=model.fit(x,y, epochs = 10, validation_split = 0.2, batch_size = 32)"
   ]
  },
  {
   "cell_type": "code",
   "execution_count": 46,
   "id": "awful-sharing",
   "metadata": {},
   "outputs": [],
   "source": [
    "import matplotlib.pyplot as plt"
   ]
  },
  {
   "cell_type": "markdown",
   "id": "pending-belarus",
   "metadata": {},
   "source": [
    "# Plot the accuracy plot and see how model has trained during all epochs"
   ]
  },
  {
   "cell_type": "code",
   "execution_count": 47,
   "id": "boring-masters",
   "metadata": {},
   "outputs": [
    {
     "data": {
      "image/png": "[encoded data removed]",
      "text/plain": [
       "<Figure size 432x288 with 1 Axes>"
      ]
     },
     "metadata": {
      "needs_background": "light"
     },
     "output_type": "display_data"
    }
   ],
   "source": [
    "plt.plot(history.history['accuracy'])\n",
    "plt.plot(history.history['val_accuracy'])\n",
    "plt.title('model accuracy')\n",
    "plt.ylabel('accuracy')\n",
    "plt.xlabel('epoch')\n",
    "plt.legend(['train', 'val'], loc='upper left')\n",
    "plt.show()"
   ]
  },
  {
   "cell_type": "markdown",
   "id": "willing-minutes",
   "metadata": {},
   "source": [
    "# Save th model in h5 file"
   ]
  },
  {
   "cell_type": "code",
   "execution_count": 48,
   "id": "listed-entrepreneur",
   "metadata": {},
   "outputs": [],
   "source": [
    "model.save(\"my_h5_model.h5\")"
   ]
  },
  {
   "cell_type": "code",
   "execution_count": null,
   "id": "engaged-thought",
   "metadata": {},
   "outputs": [],
   "source": []
  }
 ],
 "metadata": {
  "kernelspec": {
   "display_name": "Python 3",
   "language": "python",
   "name": "python3"
  },
  "language_info": {
   "codemirror_mode": {
    "name": "ipython",
    "version": 3
   },
   "file_extension": ".py",
   "mimetype": "text/x-python",
   "name": "python",
   "nbconvert_exporter": "python",
   "pygments_lexer": "ipython3",
   "version": "3.8.7"
  }
 },
 "nbformat": 4,
 "nbformat_minor": 5
}
