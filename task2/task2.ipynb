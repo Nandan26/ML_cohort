{
 "cells": [
  {
   "cell_type": "code",
   "execution_count": 1,
   "id": "brilliant-nelson",
   "metadata": {},
   "outputs": [],
   "source": [
    "import cv2 \n",
    "import os\n",
    "import pandas as pd"
   ]
  },
  {
   "cell_type": "code",
   "execution_count": 40,
   "id": "preliminary-edmonton",
   "metadata": {},
   "outputs": [],
   "source": [
    "def labelling(img_path, csv_path):\n",
    "    #extracting information from csv file given as input  \n",
    "    coordinates = pd.read_csv(csv_path)\n",
    "\n",
    "    name = coordinates[\"name\"].tolist()\n",
    "    xmin = coordinates[\"xmin\"].tolist()\n",
    "    xmax = coordinates[\"xmax\"].tolist()\n",
    "    ymin = coordinates[\"ymin\"].tolist()\n",
    "    ymax = coordinates[\"ymax\"].tolist()\n",
    "    label = coordinates[\"label\"].tolist()\n",
    "    \n",
    "    \n",
    "    images = []\n",
    "    for img in name:\n",
    "        #pass because first value is empty\n",
    "        if img!=img: \n",
    "            pass\n",
    "        else:\n",
    "            images.append(cv2.imread(os.path.join(img_path,str(img)))) #append to our list\n",
    "            \n",
    "    #print(len(images))  \n",
    "    r=255\n",
    "    g=255\n",
    "    b=255\n",
    "    x=1\n",
    "    bbox_img = []\n",
    "    img_label = []\n",
    "    scale=0.5\n",
    "    for i in range(len(images)):\n",
    "        #draw the bounding box of different color and thickness\n",
    "        bbox_img.append(cv2.rectangle(images[i], (int(xmin[i+1]),int(ymin[i+1])), (int(xmax[i+1]),int(ymax[i+1])), color = (r,g,b), thickness = x))\n",
    "        r-=20\n",
    "        g-=25\n",
    "        b-=15\n",
    "        x+=1\n",
    "    \n",
    "    for i in range(len(images)):\n",
    "        #put label which was extracted from csv file on image with different color and scale \n",
    "        img_label.append(cv2.putText(bbox_img[i],label[i+1],(10,50), cv2.FONT_HERSHEY_SIMPLEX, scale, (r,g,b),2))\n",
    "        r+=20\n",
    "        g+=25\n",
    "        b+=15\n",
    "        scale+=0.1\n",
    "    #make the output directory and save images there                  \n",
    "    os.mkdir(\"output\") \n",
    "    for i in range(len(images)):\n",
    "        cv2.imwrite(f\"output/{i}.png\", img_label[i])\n"
   ]
  },
  {
   "cell_type": "code",
   "execution_count": 41,
   "id": "municipal-arizona",
   "metadata": {},
   "outputs": [],
   "source": [
    "file_name=\"D:\\\\ML cohert\\\\cat\\\\cat\"\n",
    "csv_file=\"D:\\\\ML cohert\\\\data_labels.csv\"\n",
    "labelling(file_name, csv_file)"
   ]
  },
  {
   "cell_type": "code",
   "execution_count": null,
   "id": "intimate-graham",
   "metadata": {},
   "outputs": [],
   "source": []
  },
  {
   "cell_type": "code",
   "execution_count": null,
   "id": "accompanied-resort",
   "metadata": {},
   "outputs": [],
   "source": []
  }
 ],
 "metadata": {
  "kernelspec": {
   "display_name": "Python 3",
   "language": "python",
   "name": "python3"
  },
  "language_info": {
   "codemirror_mode": {
    "name": "ipython",
    "version": 3
   },
   "file_extension": ".py",
   "mimetype": "text/x-python",
   "name": "python",
   "nbconvert_exporter": "python",
   "pygments_lexer": "ipython3",
   "version": "3.8.7"
  }
 },
 "nbformat": 4,
 "nbformat_minor": 5
}
